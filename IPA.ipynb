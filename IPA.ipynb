{
 "cells": [
  {
   "cell_type": "code",
   "execution_count": 25,
   "id": "4a86861d-741d-4415-a4b8-6477a4901bf0",
   "metadata": {},
   "outputs": [],
   "source": [
    "#import os\n",
    "#os.environ['CUDA_VISIBLE_DEVICES'] = '-1' # Uncomment if you don't want to use GPU.\n",
    "\n",
    "import sys\n",
    "sys.path.append('utilities')\n",
    "sys.path.append('IPA_model')\n",
    "#from GraphBuilder import GraphBuilder\n",
    "from IPA import load_model\n",
    "\n",
    "import numpy as np\n",
    "import tensorflow as tf"
   ]
  },
  {
   "cell_type": "code",
   "execution_count": 48,
   "id": "a8195d18-00b0-48d6-aeca-95837f2bfee7",
   "metadata": {
    "tags": []
   },
   "outputs": [],
   "source": [
    "model_path_d = 'weights/IPA_d'\n",
    "model_path_cd = 'weights/IPA_cd'\n",
    "model = load_model(save_path=model_path_cd)"
   ]
  },
  {
   "cell_type": "code",
   "execution_count": 49,
   "id": "82a30254-b252-4626-a7d3-78ab2a00e252",
   "metadata": {},
   "outputs": [],
   "source": [
    "# Test data for S66x8\n",
    "import numpy as np\n",
    "data = np.load('test_data/S66x8.npy', allow_pickle=True).item()\n",
    "predictions, references = [], []\n",
    "for key in data:\n",
    "    graph_1, graph_2, coords_1, coords_2, multipoles, dmats, smile_1, smile_2, elements_1, elements_2, ref_energies = data[key]\n",
    "    # or if graph is not given\n",
    "    # graph_1 = builder.topological_from_coords(coords_1[0], elements_1)\n",
    "    # graph_2 = builder.topological_from_coords(coords_2[0], elements_2)\n",
    "    dex_term, ex_term, dis_term = model(graph_1, graph_2, dmats)\n",
    "    monos_1, monos_2 = multipoles[0], multipoles[1] # Only monopoles are used here\n",
    "    coulomb_terms = (monos_1 * np.transpose(monos_2, [0, 2, 1])) / dmats\n",
    "    coulomb_terms = 1389.35457644382 * tf.reduce_sum(coulomb_terms, axis=[-1, -2])\n",
    "    total = dex_term + coulomb_terms\n",
    "    references.append(ref_energies)\n",
    "    predictions.append(total)\n",
    "predictions, references = np.array(predictions), np.array(references)"
   ]
  },
  {
   "cell_type": "code",
   "execution_count": 50,
   "id": "49236942-81c0-4c57-8e50-67ff51a19bc0",
   "metadata": {},
   "outputs": [
    {
     "data": {
      "text/plain": [
       "2.927357415511962"
      ]
     },
     "execution_count": 50,
     "metadata": {},
     "output_type": "execute_result"
    },
    {
     "data": {
      "image/png": "[encoded data removed]",
      "text/plain": [
       "<Figure size 500x500 with 1 Axes>"
      ]
     },
     "metadata": {
      "needs_background": "light"
     },
     "output_type": "display_data"
    }
   ],
   "source": [
    "import matplotlib.pyplot as plt\n",
    "plt.figure(0, figsize=(5, 5), dpi=100)\n",
    "plt.scatter(predictions, references, s=1)\n",
    "np.mean(np.abs(predictions - references)) # If everything works out, the MAE should be ~ 2.92 for model_path_cd"
   ]
  },
  {
   "cell_type": "code",
   "execution_count": null,
   "id": "bddb0248-7b43-45b3-b4db-0acd0293d1db",
   "metadata": {},
   "outputs": [],
   "source": []
  }
 ],
 "metadata": {
  "kernelspec": {
   "display_name": "TFGPU",
   "language": "python",
   "name": "tfgpu"
  },
  "language_info": {
   "codemirror_mode": {
    "name": "ipython",
    "version": 3
   },
   "file_extension": ".py",
   "mimetype": "text/x-python",
   "name": "python",
   "nbconvert_exporter": "python",
   "pygments_lexer": "ipython3",
   "version": "3.9.9"
  }
 },
 "nbformat": 4,
 "nbformat_minor": 5
}
