{
 "cells": [
  {
   "cell_type": "code",
   "execution_count": 1,
   "id": "45693488-a6cd-40fe-9029-569c7fec864a",
   "metadata": {},
   "outputs": [],
   "source": [
    "#import os\n",
    "#os.environ['CUDA_VISIBLE_DEVICES'] = '-1' # Uncomment if you don't want to use GPU."
   ]
  },
  {
   "cell_type": "code",
   "execution_count": 6,
   "id": "3760603b-b7b9-443e-bcc8-a3519fcba77d",
   "metadata": {
    "tags": []
   },
   "outputs": [],
   "source": [
    "import sys\n",
    "sys.path.append('ANA_model')\n",
    "from ANA import ANA, load_model\n",
    "model = load_model(ANA(), 'weights/ANA')"
   ]
  },
  {
   "cell_type": "code",
   "execution_count": 7,
   "id": "5331fd07-8a10-466b-bb67-570b0cf2347b",
   "metadata": {},
   "outputs": [],
   "source": [
    "# Test data for S66x8\n",
    "import numpy as np\n",
    "data = np.load('test_data/S66x8.npy', allow_pickle=True).item()"
   ]
  },
  {
   "cell_type": "code",
   "execution_count": 8,
   "id": "3021d121-0e83-46e6-81d3-16b77e616554",
   "metadata": {},
   "outputs": [],
   "source": [
    "predictions, references = [], []\n",
    "for key in data:\n",
    "    graph_1, graph_2, coords_1, coords_2, multipoles, dmats, smile_1, smile_2, elements_1, elements_2, ref_energies = data[key]\n",
    "    total, es_term, in_term, ex_term, disp_term = model(graph_1, graph_2, coords_1, coords_2, multipoles, dmats)\n",
    "    references.append(ref_energies)\n",
    "    predictions.append(total)\n",
    "predictions, references = np.array(predictions), np.array(references)"
   ]
  },
  {
   "cell_type": "code",
   "execution_count": 9,
   "id": "d12eddb7-a1a7-4776-8516-81a3c0e12752",
   "metadata": {},
   "outputs": [
    {
     "data": {
      "text/plain": [
       "1.083208845351649"
      ]
     },
     "execution_count": 9,
     "metadata": {},
     "output_type": "execute_result"
    },
    {
     "data": {
      "image/png": "[encoded data removed]",
      "text/plain": [
       "<Figure size 500x500 with 1 Axes>"
      ]
     },
     "metadata": {
      "needs_background": "light"
     },
     "output_type": "display_data"
    }
   ],
   "source": [
    "import matplotlib.pyplot as plt\n",
    "plt.figure(0, figsize=(5, 5), dpi=100)\n",
    "plt.scatter(predictions, references, s=1)\n",
    "np.mean(np.abs(predictions - references)) # If everything works out, the MAE should be ~ 1.0832"
   ]
  },
  {
   "cell_type": "markdown",
   "id": "14b71683-3cf3-4999-9cd4-99490185cca2",
   "metadata": {},
   "source": [
    "### For general use:\n",
    "- Use GraphBuilder to construct topological graphs\n",
    "- Use model_multipoles to predict multipoles"
   ]
  },
  {
   "cell_type": "code",
   "execution_count": 10,
   "id": "b5abb12d-ad4b-45de-8f66-0f86e601ffd4",
   "metadata": {},
   "outputs": [],
   "source": [
    "# Load multipole model and graph builder\n",
    "sys.path.append('utilities')\n",
    "from GraphBuilder import GraphBuilder\n",
    "# Set path accordingly to load multipole model\n",
    "sys.path.append('path_to_multipole_model')\n",
    "from MultipoleNetRes32 import load_model as load_model_multipoles"
   ]
  },
  {
   "cell_type": "code",
   "execution_count": 33,
   "id": "2243d5af-3363-447f-b710-85c08a3c2e9b",
   "metadata": {
    "tags": []
   },
   "outputs": [],
   "source": [
    "builder = GraphBuilder()\n",
    "model_multipoles = load_model_multipoles()\n",
    "\n",
    "Z = {'H': 1,'C': 6,'N': 7,'O': 8,'F': 9,'S': 16,'Cl': 17,}"
   ]
  },
  {
   "cell_type": "code",
   "execution_count": 23,
   "id": "feebc05a-7d50-4a17-ad0e-2d53166f02d9",
   "metadata": {},
   "outputs": [],
   "source": [
    "# Build graph from coordinates\n",
    "graph = builder.topological_from_coords(coordinates, elements)\n",
    "core_charges = np.expand_dims([Z[e] for e in elements], axis=-1).astype(np.float32)\n",
    "# Predict multipoles for each monomer\n",
    "monopoles, dipoles, quadrupoles = model_multipoles.predict(coordinates, elements)\n",
    "quadrupoles /= 2 \n",
    "# ...."
   ]
  },
  {
   "cell_type": "code",
   "execution_count": null,
   "id": "a37024ce-dcd8-48a3-9354-2a2d688844d2",
   "metadata": {},
   "outputs": [],
   "source": [
    "# Model expects\n",
    "# graph_1: Topological graph for molecule 1\n",
    "# graph_2: Topological graph for molecule 2\n",
    "# coords_1: Monomers coordinates for molecule 1 in A [BxNx3]\n",
    "# coords_2: Monomers coordinates for molecule 2 in A [BxMx3]\n",
    "# multipoles: Multipoles in the following order: \n",
    "# multipoles = (monos_1, monos_2, dipos_1, dipos_2, quads_1, quads_2, core_charges_1, core_charges_2)\n",
    "#              monos_1: Monopoles for monomer 1: [BxNx1]\n",
    "#              monos_2: Monopoles for monomer 2: [BxMx1]\n",
    "#              dipos_1: Dipoles for monomer 1: [BxNx3]\n",
    "#              dipos_2: Dipoles for monomer 2: [BxMx3]\n",
    "#              quads_1: Quadrupoles for monomer 1: [BxNx3x3] # Quadrupoles are expected to be detraced and include factor 0.5\n",
    "#              quads_2: Quadrupoles for monomer 2: [BxMx3x3]\n",
    "#              core_charges_1: Charge of nuclei for monomer 1: [Nx1]\n",
    "#              core_charges_2: Charge of nuclei for monomer 2: [Mx1]\n",
    "# dmats: Distances between monomer 1 and monomer 2: [BxNxM]\n",
    "model(graph_1, graph_2, coords_1, coords_2, multipoles, dmats)"
   ]
  }
 ],
 "metadata": {
  "kernelspec": {
   "display_name": "TFGPU",
   "language": "python",
   "name": "tfgpu"
  },
  "language_info": {
   "codemirror_mode": {
    "name": "ipython",
    "version": 3
   },
   "file_extension": ".py",
   "mimetype": "text/x-python",
   "name": "python",
   "nbconvert_exporter": "python",
   "pygments_lexer": "ipython3",
   "version": "3.9.9"
  }
 },
 "nbformat": 4,
 "nbformat_minor": 5
}
